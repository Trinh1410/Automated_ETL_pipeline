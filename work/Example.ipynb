{
 "cells": [
  {
   "cell_type": "code",
   "execution_count": 16,
   "metadata": {},
   "outputs": [],
   "source": [
    "import mysql.connector\n",
    "from mysql.connector import Error\n",
    "import pywt\n",
    "import json\n",
    "from PIL import Image\n",
    "import numpy as np\n",
    "import matplotlib.pyplot as plt"
   ]
  },
  {
   "cell_type": "code",
   "execution_count": 17,
   "metadata": {},
   "outputs": [],
   "source": [
    "connection = mysql.connector.connect(\n",
    "        user='USER', password='PASSWORD', host='mysql', port='3306', database='SATELLITE_DB'\n",
    "    )"
   ]
  },
  {
   "cell_type": "code",
   "execution_count": 18,
   "metadata": {},
   "outputs": [],
   "source": [
    "if connection.is_connected():\n",
    "    cursor = connection.cursor()\n",
    "    print(\"conneted\")\n",
    "\n",
    "id_img = \"\""
   ]
  },
  {
   "cell_type": "code",
   "execution_count": 19,
   "metadata": {},
   "outputs": [],
   "source": [
    "try:\n",
    "    cursor.execute(f\"\"\"SELECT c.codebook, l.label,i.coeff_img\n",
    "                   FROM infor_images as i\n",
    "                   inner join codebooks as c on i.id_img = c.id_img\n",
    "                   inner join labels as l on i.id_img = l.id_img\n",
    "                   where i.id_image = {id_img} and c.band = \"B1\" and l.band = \"B1\";\"\"\")\n",
    "    labels_data = cursor.fetchall()\n",
    "except Error as e:\n",
    "    print(f\"Error: {e}\")"
   ]
  },
  {
   "cell_type": "code",
   "execution_count": 20,
   "metadata": {},
   "outputs": [],
   "source": [
    "for codebook_json, label_json,coeff_img_json in labels_data:\n",
    "    codebook = json.loads(codebook_json)\n",
    "    label = json.loads(label_json)\n",
    "    coeff = json.loads(coeff_img_json)"
   ]
  },
  {
   "cell_type": "code",
   "execution_count": 21,
   "metadata": {},
   "outputs": [],
   "source": [
    "wav = \"db4\"\n",
    "\n",
    "match_im = np.zeros((label.shape[0],label.shape[1]), dtype=float)\n",
    "count = 0\n",
    "# Loop through the loop to reconstruct the quantized image\n",
    "for i in range(label.shape[0]):\n",
    "    for j in range(label.shape[1]):\n",
    "        if label[i][j] != 0:\n",
    "            match_im[i][j] =codebook[count]\n",
    "            count+=1\n",
    "            \n",
    "coeffs_filt = pywt.array_to_coeffs(match_im, coeff, output_format='wavedec2')\n",
    "# Regenerate the original image\n",
    "Arecon = pywt.waverec2(coeffs_filt, wavelet=wav)\n",
    "Arecon = (Arecon - np.min(Arecon)) / (np.max(Arecon) - np.min(Arecon)) * 255"
   ]
  },
  {
   "cell_type": "code",
   "execution_count": 22,
   "metadata": {},
   "outputs": [],
   "source": [
    "plt.imshow(Arecon)"
   ]
  }
 ],
 "metadata": {
  "kernelspec": {
   "display_name": "Python 3",
   "language": "python",
   "name": "python3"
  },
  "language_info": {
   "codemirror_mode": {
    "name": "ipython",
    "version": 3
   },
   "file_extension": ".py",
   "mimetype": "text/x-python",
   "name": "python",
   "nbconvert_exporter": "python",
   "pygments_lexer": "ipython3",
   "version": "3.11.9"
  }
 },
 "nbformat": 4,
 "nbformat_minor": 2
}
